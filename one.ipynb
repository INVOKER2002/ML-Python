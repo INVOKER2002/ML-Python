{
 "cells": [
  {
   "cell_type": "markdown",
   "id": "643cfc62",
   "metadata": {},
   "source": [
    "what are tensors ?? \n",
    "tensors aare basically storgae units for numbers and data \n"
   ]
  },
  {
   "cell_type": "code",
   "execution_count": 1,
   "id": "68bbc106",
   "metadata": {},
   "outputs": [],
   "source": [
    "import numpy as np "
   ]
  },
  {
   "cell_type": "code",
   "execution_count": 3,
   "id": "89883e89",
   "metadata": {},
   "outputs": [
    {
     "data": {
      "text/plain": [
       "1"
      ]
     },
     "execution_count": 3,
     "metadata": {},
     "output_type": "execute_result"
    }
   ],
   "source": [
    "a = np.array([1,2,3,4,5])\n",
    "a.ndim"
   ]
  },
  {
   "cell_type": "markdown",
   "id": "ebd6d77b",
   "metadata": {},
   "source": [
    "single number stored like (2) or (3) -- these are 0d tensors i.e they are tensors with 0 dimension \n",
    "when we store a vector i.e a single column or row matrox  , it is a 1D Tensor i.e a tensor with 1 dimesnion "
   ]
  }
 ],
 "metadata": {
  "kernelspec": {
   "display_name": "Python 3",
   "language": "python",
   "name": "python3"
  },
  "language_info": {
   "codemirror_mode": {
    "name": "ipython",
    "version": 3
   },
   "file_extension": ".py",
   "mimetype": "text/x-python",
   "name": "python",
   "nbconvert_exporter": "python",
   "pygments_lexer": "ipython3",
   "version": "3.13.1"
  }
 },
 "nbformat": 4,
 "nbformat_minor": 5
}
